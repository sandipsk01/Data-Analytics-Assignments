{
  "nbformat": 4,
  "nbformat_minor": 0,
  "metadata": {
    "colab": {
      "provenance": []
    },
    "kernelspec": {
      "name": "python3",
      "display_name": "Python 3"
    },
    "language_info": {
      "name": "python"
    }
  },
  "cells": [
    {
      "cell_type": "markdown",
      "source": [
        "1. What are data structures, and why are they important?\n",
        "\n",
        " -> Data structures are organized formats for storing and managing data efficiently, such as arrays, lists, trees, and graphs. They are crucial for optimizing algorithms, improving performance, and effectively solving computational problems."
      ],
      "metadata": {
        "id": "Fx0wjxwzNnS9"
      }
    },
    {
      "cell_type": "markdown",
      "source": [
        "2. Explain the difference between mutable and immutable data types with examples.\n",
        "\n",
        "  -> Mutable: Can be changed after creation (e.g., lists: list1 = [1, 2, 3]; list1[0] = 10).\n",
        "Immutable: Cannot be changed after creation (e.g., strings: s = \"hello\"; s[0] = \"H\" results in an error)."
      ],
      "metadata": {
        "id": "qFbnLddsNy1U"
      }
    },
    {
      "cell_type": "markdown",
      "source": [
        "3. What are the main differences between lists and tuples in Python?\n",
        "\n",
        "  ->\n",
        "  Lists: Mutable, dynamic, slower, e.g., [1, 2, 3].\n",
        "  \n",
        "  Tuples: Immutable, faster, e.g., (1, 2, 3).\n"
      ],
      "metadata": {
        "id": "YF-NSzHLN5Y2"
      }
    },
    {
      "cell_type": "markdown",
      "source": [
        "4. Describe how dictionaries store data.\n",
        "\n",
        "  -> Dictionaries store data as key-value pairs using a hash table for efficient access.\n",
        "\n"
      ],
      "metadata": {
        "id": "S5bUThk5OFzK"
      }
    },
    {
      "cell_type": "markdown",
      "source": [
        "5. Why might you use a set instead of a list in Python?\n",
        "\n",
        "  -> Sets automatically eliminate duplicates and support fast membership checks.\n",
        "\n"
      ],
      "metadata": {
        "id": "YhLHq_lHONSU"
      }
    },
    {
      "cell_type": "markdown",
      "source": [
        "6. What is a string in Python, and how is it different from a list?\n",
        "\n",
        "  ->A string is an immutable sequence of characters, while a list is a mutable sequence of items of any type."
      ],
      "metadata": {
        "id": "QGB2s3E4OTQW"
      }
    },
    {
      "cell_type": "markdown",
      "source": [
        "7. How do tuples ensure data integrity in Python?\n",
        "\n",
        "  -> Tuples are immutable, preventing accidental changes to their contents, which ensures data consistency."
      ],
      "metadata": {
        "id": "GR5xVgaUOXRp"
      }
    },
    {
      "cell_type": "markdown",
      "source": [
        "8. What is a hash table, and how does it relate to dictionaries in Python?\n",
        "\n",
        "  ->A hash table is a data structure that maps keys to values for efficient access. Python dictionaries use hash tables internally."
      ],
      "metadata": {
        "id": "SvuisveBObgu"
      }
    },
    {
      "cell_type": "markdown",
      "source": [
        "9. Can lists contain different data types in Python?\n",
        "\n",
        "  ->Yes, lists can hold mixed data types, e.g., [1, \"two\", 3.0]."
      ],
      "metadata": {
        "id": "V-ULcw7NOie3"
      }
    },
    {
      "cell_type": "markdown",
      "source": [
        "10. Explain why strings are immutable in Python.\n",
        "\n",
        "  -> Strings are immutable to enhance performance, memory efficiency, and security in multi-threaded environments."
      ],
      "metadata": {
        "id": "pMUyctzOOm1A"
      }
    },
    {
      "cell_type": "markdown",
      "source": [
        "11. What advantages do dictionaries offer over lists for certain tasks?\n",
        "\n",
        " -> Dictionaries provide fast lookups and retrieval using keys, unlike lists, which require searching sequentially."
      ],
      "metadata": {
        "id": "eig4KvdxOrXS"
      }
    },
    {
      "cell_type": "markdown",
      "source": [
        "12. Describe a scenario where using a tuple would be preferable over a list.\n",
        "\n",
        "  -> Tuples are preferable for fixed, unchangeable data, like storing latitude and longitude coordinates."
      ],
      "metadata": {
        "id": "BmrfX4iBOux_"
      }
    },
    {
      "cell_type": "markdown",
      "source": [
        "13. How do sets handle duplicate values in Python?\n",
        "\n",
        "  -> Sets automatically remove duplicates, ensuring each element is unique."
      ],
      "metadata": {
        "id": "FFTorhmJO2bM"
      }
    },
    {
      "cell_type": "markdown",
      "source": [
        "14. How does the \"in\" keyword work differently for lists and dictionaries?\n",
        "\n",
        "  -> Lists: Checks for element presence.\n",
        "\n",
        "  Dictionaries: Checks for key presence."
      ],
      "metadata": {
        "id": "eQXhaAZvO69j"
      }
    },
    {
      "cell_type": "markdown",
      "source": [
        "15. Can you modify the elements of a tuple? Explain why or why not.\n",
        "\n",
        "  -> No, tuples are immutable, meaning their contents cannot be altered after creation."
      ],
      "metadata": {
        "id": "imEaOBKSPDeC"
      }
    },
    {
      "cell_type": "markdown",
      "source": [
        "16. What is a nested dictionary, and give an example of its use case.\n",
        "\n",
        "  -> A nested dictionary is a dictionary within a dictionary. Example:\n",
        "\n",
        "  data = {\"user1\": {\"name\": \"Alice\", \"age\": 25}, \"user2\": {\"name\": \"Bob\", \"age\": 30}}\n"
      ],
      "metadata": {
        "id": "3l4jmiI5POSO"
      }
    },
    {
      "cell_type": "markdown",
      "source": [
        "17. Describe the time complexity of accessing elements in a dictionary.\n",
        "\n",
        "  -> Accessing elements in a dictionary has an average time complexity of O(1).\n"
      ],
      "metadata": {
        "id": "zxzhB4k7PYrE"
      }
    },
    {
      "cell_type": "markdown",
      "source": [
        "18. In what situations are lists preferred over dictionaries?\n",
        "\n",
        "  -> Lists are preferred for ordered collections and when sequence or indexing is important."
      ],
      "metadata": {
        "id": "WkQoiJt2Pe9g"
      }
    },
    {
      "cell_type": "markdown",
      "source": [
        "19. Why are dictionaries considered unordered, and how does that affect data retrieval?\n",
        "\n",
        "  -> Dictionaries do not guarantee order (prior to Python 3.7). Data retrieval depends on keys, not position.\n",
        "\n"
      ],
      "metadata": {
        "id": "oqrUrss3Pi5Q"
      }
    },
    {
      "cell_type": "markdown",
      "source": [
        "20. Explain the difference between a list and a dictionary in terms of data retrieval.\n",
        "\n",
        "  -> Lists: Retrieval by index.\n",
        "\n",
        "  Dictionaries: Retrieval by key."
      ],
      "metadata": {
        "id": "QHRFJkanPnH2"
      }
    },
    {
      "cell_type": "markdown",
      "source": [
        "# Practical Questions"
      ],
      "metadata": {
        "id": "NDoLgNHiPrwq"
      }
    },
    {
      "cell_type": "code",
      "source": [
        "# 1. Write a code to create a string with your name and print itE.\n",
        "name = \"Sandip\"\n",
        "print(name)"
      ],
      "metadata": {
        "colab": {
          "base_uri": "https://localhost:8080/"
        },
        "id": "PIIcKKGIPyC5",
        "outputId": "6df7e856-8c41-4284-d37b-7755a4625a27"
      },
      "execution_count": 1,
      "outputs": [
        {
          "output_type": "stream",
          "name": "stdout",
          "text": [
            "Sandip\n"
          ]
        }
      ]
    },
    {
      "cell_type": "code",
      "source": [
        "# 2. Write a code to find the length of the string \"Hello World\".\n",
        "string = \"Hello World\"\n",
        "length = len(string)\n",
        "print(length)\n"
      ],
      "metadata": {
        "colab": {
          "base_uri": "https://localhost:8080/"
        },
        "id": "xwvsxc8aQKRK",
        "outputId": "ee2b9d1e-c9fc-45fc-887d-1614a779d34b"
      },
      "execution_count": 2,
      "outputs": [
        {
          "output_type": "stream",
          "name": "stdout",
          "text": [
            "11\n"
          ]
        }
      ]
    },
    {
      "cell_type": "code",
      "source": [
        "# 3.  Slice the first 3 characters from the string \"Python Programming\".\n",
        "string = \"Python Programming\"\n",
        "sliced = string[:3]\n",
        "print(sliced)\n"
      ],
      "metadata": {
        "colab": {
          "base_uri": "https://localhost:8080/"
        },
        "id": "Gz1Qy-C6QXpX",
        "outputId": "c556e348-21e1-41d5-d478-dbe9326f92fb"
      },
      "execution_count": 3,
      "outputs": [
        {
          "output_type": "stream",
          "name": "stdout",
          "text": [
            "Pyt\n"
          ]
        }
      ]
    },
    {
      "cell_type": "code",
      "source": [
        "# 4. Write a code to convert the string \"hello\" to uppercase.\n",
        "string = \"hello\"\n",
        "uppercase = string.upper()\n",
        "print(uppercase)\n"
      ],
      "metadata": {
        "colab": {
          "base_uri": "https://localhost:8080/"
        },
        "id": "FNcUO8ExQhC_",
        "outputId": "0740febc-a586-4292-9b8b-b25125b72b73"
      },
      "execution_count": 4,
      "outputs": [
        {
          "output_type": "stream",
          "name": "stdout",
          "text": [
            "HELLO\n"
          ]
        }
      ]
    },
    {
      "cell_type": "code",
      "source": [
        "# 5. Write a code to replace the word \"apple\" with \"orange\" in the string \"I like apple\".\n",
        "string = \"I like apple\"\n",
        "replaced = string.replace(\"apple\", \"orange\")\n",
        "print(replaced)\n"
      ],
      "metadata": {
        "colab": {
          "base_uri": "https://localhost:8080/"
        },
        "id": "PQC4cxQXQlJH",
        "outputId": "ce1cad79-31c5-4dcb-c14d-b7360b653320"
      },
      "execution_count": 5,
      "outputs": [
        {
          "output_type": "stream",
          "name": "stdout",
          "text": [
            "I like orange\n"
          ]
        }
      ]
    },
    {
      "cell_type": "code",
      "source": [
        "# 6. Write a code to create a list with numbers 1 to 5 and print it.\n",
        "numbers = [1, 2, 3, 4, 5]\n",
        "print(numbers)\n"
      ],
      "metadata": {
        "colab": {
          "base_uri": "https://localhost:8080/"
        },
        "id": "jhr00F2WQt7e",
        "outputId": "eceb8084-b1a5-403a-839b-0f1e55ab78ce"
      },
      "execution_count": 6,
      "outputs": [
        {
          "output_type": "stream",
          "name": "stdout",
          "text": [
            "[1, 2, 3, 4, 5]\n"
          ]
        }
      ]
    },
    {
      "cell_type": "code",
      "source": [
        "# 7. Write a code to append the number 10 to the list [1, 2, 3, 4].\n",
        "numbers = [1, 2, 3, 4]\n",
        "numbers.append(10)\n",
        "print(numbers)\n"
      ],
      "metadata": {
        "colab": {
          "base_uri": "https://localhost:8080/"
        },
        "id": "XGITJ2v1Q07q",
        "outputId": "b0f390ce-5202-4583-979d-43fa5f595b44"
      },
      "execution_count": 7,
      "outputs": [
        {
          "output_type": "stream",
          "name": "stdout",
          "text": [
            "[1, 2, 3, 4, 10]\n"
          ]
        }
      ]
    },
    {
      "cell_type": "code",
      "source": [
        "# 8. Write a code to remove the number 3 from the list [1, 2, 3, 4, 5].\n",
        "numbers = [1, 2, 3, 4, 5]\n",
        "numbers.remove(3)\n",
        "print(numbers)\n"
      ],
      "metadata": {
        "colab": {
          "base_uri": "https://localhost:8080/"
        },
        "id": "UtXruDysQ9HE",
        "outputId": "244fee7d-c218-4ae6-e86d-aac318679128"
      },
      "execution_count": 8,
      "outputs": [
        {
          "output_type": "stream",
          "name": "stdout",
          "text": [
            "[1, 2, 4, 5]\n"
          ]
        }
      ]
    },
    {
      "cell_type": "code",
      "source": [
        "# 9. Write a code to access the second element in the list ['a', 'b', 'c', 'd'].\n",
        "letters = ['a', 'b', 'c', 'd']\n",
        "second_element = letters[1]\n",
        "print(second_element)\n"
      ],
      "metadata": {
        "colab": {
          "base_uri": "https://localhost:8080/"
        },
        "id": "iUwOQJkKRFCj",
        "outputId": "49d87302-6627-48f3-f794-2dcc01567986"
      },
      "execution_count": 9,
      "outputs": [
        {
          "output_type": "stream",
          "name": "stdout",
          "text": [
            "b\n"
          ]
        }
      ]
    },
    {
      "cell_type": "code",
      "source": [
        "# 10. Write a code to reverse the list [10, 20, 30, 40, 50].\n",
        "numbers = [10, 20, 30, 40, 50]\n",
        "numbers.reverse()\n",
        "print(numbers)\n"
      ],
      "metadata": {
        "colab": {
          "base_uri": "https://localhost:8080/"
        },
        "id": "JT4VoYZ_RMFL",
        "outputId": "530b5797-3905-48b0-c308-9f45aa1d7cb3"
      },
      "execution_count": 10,
      "outputs": [
        {
          "output_type": "stream",
          "name": "stdout",
          "text": [
            "[50, 40, 30, 20, 10]\n"
          ]
        }
      ]
    },
    {
      "cell_type": "code",
      "source": [
        "# 11. Write a code to create a tuple with the elements 10, 20, 30 and print it.\n",
        "tuple1 = (10, 20, 30)\n",
        "print(tuple1)\n"
      ],
      "metadata": {
        "colab": {
          "base_uri": "https://localhost:8080/"
        },
        "id": "EYIUiNcvRW6a",
        "outputId": "803bdbee-55e5-4fa2-9491-ba7cd9f7d09a"
      },
      "execution_count": 11,
      "outputs": [
        {
          "output_type": "stream",
          "name": "stdout",
          "text": [
            "(10, 20, 30)\n"
          ]
        }
      ]
    },
    {
      "cell_type": "code",
      "source": [
        "# 12.Write a code to access the first element of the tuple ('apple', 'banana', 'cherry').\n",
        "fruits = ('apple', 'banana', 'cherry')\n",
        "first_element = fruits[0]\n",
        "print(first_element)\n"
      ],
      "metadata": {
        "colab": {
          "base_uri": "https://localhost:8080/"
        },
        "id": "UIC2yGSaRpMN",
        "outputId": "20345bbc-39d3-4f36-e662-8f8ea539187a"
      },
      "execution_count": 12,
      "outputs": [
        {
          "output_type": "stream",
          "name": "stdout",
          "text": [
            "apple\n"
          ]
        }
      ]
    },
    {
      "cell_type": "code",
      "source": [
        "# 13. Write a code to count how many times the number 2 appears in the tuple (1, 2, 3, 2, 4, 2).\n",
        "numbers = (1, 2, 3, 2, 4, 2)\n",
        "count_of_two = numbers.count(2)\n",
        "print(count_of_two)\n"
      ],
      "metadata": {
        "colab": {
          "base_uri": "https://localhost:8080/"
        },
        "id": "7a9zCRX1RvD7",
        "outputId": "b785b9f8-0585-4ab3-fcea-54eedf9a766c"
      },
      "execution_count": 13,
      "outputs": [
        {
          "output_type": "stream",
          "name": "stdout",
          "text": [
            "3\n"
          ]
        }
      ]
    },
    {
      "cell_type": "code",
      "source": [
        "# 14. Write a code to find the index of the element \"cat\" in the tuple ('dog', 'cat', 'rabbit').\n",
        "animals = ('dog', 'cat', 'rabbit')\n",
        "index_of_cat = animals.index('cat')\n",
        "print(index_of_cat)\n"
      ],
      "metadata": {
        "colab": {
          "base_uri": "https://localhost:8080/"
        },
        "id": "MC22bSFXR1sK",
        "outputId": "2b963d36-5e43-43bb-bfe2-fd8f8afba15f"
      },
      "execution_count": 14,
      "outputs": [
        {
          "output_type": "stream",
          "name": "stdout",
          "text": [
            "1\n"
          ]
        }
      ]
    },
    {
      "cell_type": "code",
      "source": [
        "# 15. Write a code to check if the element \"banana\" is in the tuple ('apple', 'orange', 'banana').\n",
        "fruits = ('apple', 'orange', 'banana')\n",
        "is_banana_present = 'banana' in fruits\n",
        "print(is_banana_present)\n"
      ],
      "metadata": {
        "colab": {
          "base_uri": "https://localhost:8080/"
        },
        "id": "PBWafd2gR7_S",
        "outputId": "7083d3e7-0693-4e51-8589-0eae5605a41f"
      },
      "execution_count": 15,
      "outputs": [
        {
          "output_type": "stream",
          "name": "stdout",
          "text": [
            "True\n"
          ]
        }
      ]
    },
    {
      "cell_type": "code",
      "source": [
        "# 16. Write a code to create a set with the elements 1, 2, 3, 4, 5 and print it.\n",
        "set1 = {1, 2, 3, 4, 5}\n",
        "print(set1)\n"
      ],
      "metadata": {
        "colab": {
          "base_uri": "https://localhost:8080/"
        },
        "id": "AGkq05YPSD3M",
        "outputId": "3fc3e592-686a-491e-9621-1f8c1697c81d"
      },
      "execution_count": 16,
      "outputs": [
        {
          "output_type": "stream",
          "name": "stdout",
          "text": [
            "{1, 2, 3, 4, 5}\n"
          ]
        }
      ]
    },
    {
      "cell_type": "code",
      "source": [
        "# 17. Write a code to add the element 6 to the set {1, 2, 3, 4}.\n",
        "set2 = {1, 2, 3, 4}\n",
        "set2.add(6)\n",
        "print(set2)\n"
      ],
      "metadata": {
        "colab": {
          "base_uri": "https://localhost:8080/"
        },
        "id": "lsNOd4AqSKfw",
        "outputId": "36b78341-1acf-4876-9562-bf816b60129e"
      },
      "execution_count": 17,
      "outputs": [
        {
          "output_type": "stream",
          "name": "stdout",
          "text": [
            "{1, 2, 3, 4, 6}\n"
          ]
        }
      ]
    },
    {
      "cell_type": "code",
      "source": [
        "# 18. Write a code to create a tuple with the elements 10, 20, 30 and print it.\n",
        "tuple1 = (10, 20, 30)\n",
        "print(tuple1)\n"
      ],
      "metadata": {
        "colab": {
          "base_uri": "https://localhost:8080/"
        },
        "id": "0Vduw5-bSQ9h",
        "outputId": "27079422-c93d-4a05-de4e-56f3781063f5"
      },
      "execution_count": 18,
      "outputs": [
        {
          "output_type": "stream",
          "name": "stdout",
          "text": [
            "(10, 20, 30)\n"
          ]
        }
      ]
    },
    {
      "cell_type": "code",
      "source": [
        "# 19. Write a code to access the first element of the tuple ('apple', 'banana', 'cherry').\n",
        "fruits = ('apple', 'banana', 'cherry')\n",
        "first_element = fruits[0]\n",
        "print(first_element)\n"
      ],
      "metadata": {
        "colab": {
          "base_uri": "https://localhost:8080/"
        },
        "id": "JQliiaWRSfYK",
        "outputId": "25b09e0f-6943-4a6b-f73d-40320419e4f9"
      },
      "execution_count": 19,
      "outputs": [
        {
          "output_type": "stream",
          "name": "stdout",
          "text": [
            "apple\n"
          ]
        }
      ]
    },
    {
      "cell_type": "code",
      "source": [
        "# 20. Write a code to count how many times the number 2 appears in the tuple (1, 2, 3, 2, 4, 2).\n",
        "numbers = (1, 2, 3, 2, 4, 2)\n",
        "count_of_two = numbers.count(2)\n",
        "print(count_of_two)\n"
      ],
      "metadata": {
        "colab": {
          "base_uri": "https://localhost:8080/"
        },
        "id": "9m7U27MuSmwU",
        "outputId": "ece1547d-359f-4a4f-82ef-a5ff334a7c61"
      },
      "execution_count": 20,
      "outputs": [
        {
          "output_type": "stream",
          "name": "stdout",
          "text": [
            "3\n"
          ]
        }
      ]
    },
    {
      "cell_type": "code",
      "source": [
        "# 21. Write a code to find the index of the element \"cat\" in the tuple ('dog', 'cat', 'rabbit').\n",
        "animals = ('dog', 'cat', 'rabbit')\n",
        "index_of_cat = animals.index('cat')\n",
        "print(index_of_cat)\n"
      ],
      "metadata": {
        "colab": {
          "base_uri": "https://localhost:8080/"
        },
        "id": "EpKXy2UsSw9b",
        "outputId": "97665131-a054-4e94-b9d1-ff771d83e6fe"
      },
      "execution_count": 21,
      "outputs": [
        {
          "output_type": "stream",
          "name": "stdout",
          "text": [
            "1\n"
          ]
        }
      ]
    },
    {
      "cell_type": "code",
      "source": [
        "# 22. Write a code to check if the element \"banana\" is in the tuple ('apple', 'orange', 'banana').\n",
        "fruits = ('apple', 'orange', 'banana')\n",
        "is_banana_present = 'banana' in fruits\n",
        "print(is_banana_present)\n"
      ],
      "metadata": {
        "colab": {
          "base_uri": "https://localhost:8080/"
        },
        "id": "f3JkF4YTS08r",
        "outputId": "4a1f5194-0025-497e-ce5b-b50e4e12780c"
      },
      "execution_count": 22,
      "outputs": [
        {
          "output_type": "stream",
          "name": "stdout",
          "text": [
            "True\n"
          ]
        }
      ]
    },
    {
      "cell_type": "code",
      "source": [
        "# 23. Write a code to create a set with the elements 1, 2, 3, 4, 5 and print it.\n",
        "set1 = {1, 2, 3, 4, 5}\n",
        "print(set1)\n"
      ],
      "metadata": {
        "colab": {
          "base_uri": "https://localhost:8080/"
        },
        "id": "_RBpplH9S8O_",
        "outputId": "6d6e8f28-93b4-48b2-e408-3e2feac1dd4d"
      },
      "execution_count": 23,
      "outputs": [
        {
          "output_type": "stream",
          "name": "stdout",
          "text": [
            "{1, 2, 3, 4, 5}\n"
          ]
        }
      ]
    },
    {
      "cell_type": "code",
      "source": [
        "# 24. Write a code to add the element 6 to the set {1, 2, 3, 4}.\n",
        "set2 = {1, 2, 3, 4}\n",
        "set2.add(6)\n",
        "print(set2)\n"
      ],
      "metadata": {
        "colab": {
          "base_uri": "https://localhost:8080/"
        },
        "id": "NH8agEWpTCK0",
        "outputId": "395e9349-6b2c-4f75-b1ec-5f3c5dd40b57"
      },
      "execution_count": 24,
      "outputs": [
        {
          "output_type": "stream",
          "name": "stdout",
          "text": [
            "{1, 2, 3, 4, 6}\n"
          ]
        }
      ]
    }
  ]
}