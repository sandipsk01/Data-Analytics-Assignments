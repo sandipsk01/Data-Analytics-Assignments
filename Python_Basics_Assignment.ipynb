{
  "nbformat": 4,
  "nbformat_minor": 0,
  "metadata": {
    "colab": {
      "provenance": []
    },
    "kernelspec": {
      "name": "python3",
      "display_name": "Python 3"
    },
    "language_info": {
      "name": "python"
    }
  },
  "cells": [
    {
      "cell_type": "markdown",
      "source": [
        "1. **What is Python, and why is it popular?**\n",
        "  \n",
        "  -> Python is a high-level, interpreted, and general-purpose programming language known for its simplicity and readability. It supports multiple programming paradigms, including procedural, object-oriented, and functional programming.\n",
        "  \n",
        "  Reasons for popularity:\n",
        "  *   Easy syntax, which makes it beginner-friendly.\n",
        "  *   Extensive standard library and community-contributed modules.\n",
        "  *   Versatility for web development, data analysis, machine learning, automation, etc.\n",
        "  *   Active community support.\n",
        "\n",
        "\n",
        "2. **What is an interpreter in Python?**\n",
        "\n",
        "  -> An interpreter in Python executes code line by line. It reads the Python script, converts it into intermediate bytecode, and then runs it on the Python Virtual Machine (PVM).\n",
        "\n",
        "3. **What are pre-defined keywords in Python?**\n",
        "\n",
        "  -> Pre-defined keywords are reserved words in Python that have specific meanings and uses. They cannot be used as identifiers or variable names. Examples include if, else, while, for, def, and return.\n",
        "\n",
        "4. **Can keywords be used as variable names?**\n",
        "\n",
        "  -> No, keywords cannot be used as variable names because they are reserved for specific syntax or operations in Python. For example, using if = 5 will raise a syntax error.\n",
        "\n",
        "5. **What is mutability in Python?**\n",
        "\n",
        "  -> Mutability refers to the ability of an object to change its content after creation.\n",
        "  *   Mutable objects: Can be modified (e.g., lists, dictionaries).\n",
        "  *   Immutable objects: Cannot be changed once created (e.g., tuples, strings).\n",
        "\n",
        "6. **Why are lists mutable, but tuples are immutable?**\n",
        "  \n",
        "  -> Lists are mutable because they are designed to hold collections that can grow, shrink, or change in content.\n",
        "  \n",
        "  Tuples are immutable to ensure data consistency and safety, especially when used as keys in dictionaries or in scenarios requiring fixed data.\n",
        "\n",
        "7. **What is the difference between == and is operators in Python?**\n",
        "\n",
        "  -> '==' checks for value equality. It verifies if two objects have the same value.\n",
        "  \n",
        "  'is' checks for identity equality. It verifies if two objects refer to the same memory location.\n",
        "\n",
        "8. **What are logical operators in Python?**\n",
        "  \n",
        "  -> Logical operators are used to perform logical operations on expressions:\n",
        "  *   and: Returns True if both operands are true.\n",
        "  *   or: Returns True if at least one operand is true.\n",
        "  *   not: Returns True if the operand is false, and vice versa.\n",
        "\n",
        "9. **What is type casting in Python?**\n",
        "  \n",
        "  -> Type casting is the process of converting one data type into another.\n",
        "Example: int(\"123\") converts the string \"123\" to an integer.\n",
        "\n",
        "10. **What is the difference between implicit and explicit type casting?**\n",
        "\n",
        "  ->\n",
        "  * Implicit casting: Performed automatically by Python when there’s no risk of data loss (e.g., int to float).\n",
        "  * Explicit casting: Done manually by the programmer using functions like int(), float(), str().\n",
        "11. **What is the purpose of conditional statements in Python?**\n",
        "\n",
        "  -> Conditional statements allow the program to make decisions and execute code based on specific conditions. Examples include if, if-else, and elif statements.\n",
        "\n",
        "12. **How does the elif statement work?**\n",
        "\n",
        "  -> The elif (short for \"else if\") statement allows you to check multiple conditions sequentially. If a condition evaluates to True, its block executes, and the remaining conditions are ignored.\n",
        "\n",
        "13. **What is the difference between for and while loops?**\n",
        "\n",
        "  ->\n",
        "  * for loop: Iterates over a sequence (like a list, string, or range) for a predefined number of iterations.\n",
        "  * while loop: Repeats as long as a specified condition is true. It is suitable for scenarios where the number of iterations is not predetermined.\n",
        "14. **Describe a scenario where a while loop is more suitable than a for loop.**\n",
        "\n",
        "  -> A while loop is better when the loop's termination depends on a condition rather than a sequence or range.\n",
        "Example: Continuously reading user input until they enter \"exit\"."
      ],
      "metadata": {
        "id": "bZR7br7bBiWE"
      }
    },
    {
      "cell_type": "code",
      "source": [
        "while True:\n",
        "    user_input = input(\"Enter something (type 'exit' to quit): \")\n",
        "    if user_input.lower() == \"exit\":\n",
        "        break"
      ],
      "metadata": {
        "colab": {
          "base_uri": "https://localhost:8080/"
        },
        "id": "Lf2OxvgUENmd",
        "outputId": "ee83b7ec-4bdc-419d-c213-4c05721a6d4c"
      },
      "execution_count": 1,
      "outputs": [
        {
          "name": "stdout",
          "output_type": "stream",
          "text": [
            "Enter something (type 'exit' to quit): sandip\n",
            "Enter something (type 'exit' to quit): exit\n"
          ]
        }
      ]
    },
    {
      "cell_type": "markdown",
      "source": [
        "# **Practical Questions**"
      ],
      "metadata": {
        "id": "HuflEt2eEzCm"
      }
    },
    {
      "cell_type": "code",
      "source": [
        "# 1. Write a Python program to print \"Hello, World!\"\n",
        "print(\"Hello, World!\")"
      ],
      "metadata": {
        "colab": {
          "base_uri": "https://localhost:8080/"
        },
        "id": "oSkCYMvmEq2o",
        "outputId": "6a68fba8-c07d-4645-9195-88176952761f"
      },
      "execution_count": 2,
      "outputs": [
        {
          "output_type": "stream",
          "name": "stdout",
          "text": [
            "Hello, World!\n"
          ]
        }
      ]
    },
    {
      "cell_type": "code",
      "source": [
        "# 2. Write a Python program that displays your name and age.\n",
        "name = \"Sandip\"\n",
        "age = 26\n",
        "print(f\"My name is {name} and I am {age} years old.\")"
      ],
      "metadata": {
        "colab": {
          "base_uri": "https://localhost:8080/"
        },
        "id": "8gjoObwtFA1Y",
        "outputId": "20400a3e-0106-4d61-ff55-1bc88b81f6a1"
      },
      "execution_count": 3,
      "outputs": [
        {
          "output_type": "stream",
          "name": "stdout",
          "text": [
            "My name is Sandip and I am 26 years old.\n"
          ]
        }
      ]
    },
    {
      "cell_type": "code",
      "source": [
        "# 3. Write code to print all the pre-defined keywords in Python using the keyword library.\n",
        "import keyword\n",
        "print(\"Python Keywords:\")\n",
        "print(keyword.kwlist)"
      ],
      "metadata": {
        "colab": {
          "base_uri": "https://localhost:8080/"
        },
        "id": "lKWEV5mDFRkf",
        "outputId": "ddb923b3-1fc1-4c0c-a0e8-a1ea9d47e7d4"
      },
      "execution_count": 4,
      "outputs": [
        {
          "output_type": "stream",
          "name": "stdout",
          "text": [
            "Python Keywords:\n",
            "['False', 'None', 'True', 'and', 'as', 'assert', 'async', 'await', 'break', 'class', 'continue', 'def', 'del', 'elif', 'else', 'except', 'finally', 'for', 'from', 'global', 'if', 'import', 'in', 'is', 'lambda', 'nonlocal', 'not', 'or', 'pass', 'raise', 'return', 'try', 'while', 'with', 'yield']\n"
          ]
        }
      ]
    },
    {
      "cell_type": "code",
      "source": [
        "# 4. Write a program that checks if a given word is a Python keyword. (took help of chatgpt)\n",
        "import keyword\n",
        "\n",
        "def is_keyword(word):\n",
        "    return keyword.iskeyword(word)\n",
        "\n",
        "word = input(\"Enter a word to check: \")\n",
        "if is_keyword(word):\n",
        "    print(f\"{word} is a Python keyword.\")\n",
        "else:\n",
        "    print(f\"{word} is not a Python keyword.\")"
      ],
      "metadata": {
        "colab": {
          "base_uri": "https://localhost:8080/"
        },
        "id": "qOMP-CcMFxJI",
        "outputId": "0e8e248d-c41f-4720-a598-d1d37322cd42"
      },
      "execution_count": 5,
      "outputs": [
        {
          "output_type": "stream",
          "name": "stdout",
          "text": [
            "Enter a word to check: def\n",
            "def is a Python keyword.\n"
          ]
        }
      ]
    },
    {
      "cell_type": "code",
      "source": [
        "# 5. Create a list and tuple in Python, and demonstrate how attempting to change an element works differently for each.\n",
        "# List (mutable)\n",
        "my_list = [1, 2, 3]\n",
        "print(\"Original List:\", my_list)\n",
        "my_list[1] = 99\n",
        "print(\"Modified List:\", my_list)\n",
        "\n",
        "#Tuple (immutable)\n",
        "my_tuple = (1, 2, 3)\n",
        "print(\"Original Tuple:\", my_tuple)\n",
        "my_tuple[1] = 99\n",
        "print(\"Modified Tuple:\", my_tuple)   # it will throw an error"
      ],
      "metadata": {
        "colab": {
          "base_uri": "https://localhost:8080/",
          "height": 245
        },
        "id": "5u5w-PFrGOop",
        "outputId": "9646fb73-4993-4ccd-aeb3-352cfb8840e8"
      },
      "execution_count": 6,
      "outputs": [
        {
          "output_type": "stream",
          "name": "stdout",
          "text": [
            "Original List: [1, 2, 3]\n",
            "Modified List: [1, 99, 3]\n",
            "Original Tuple: (1, 2, 3)\n"
          ]
        },
        {
          "output_type": "error",
          "ename": "TypeError",
          "evalue": "'tuple' object does not support item assignment",
          "traceback": [
            "\u001b[0;31m---------------------------------------------------------------------------\u001b[0m",
            "\u001b[0;31mTypeError\u001b[0m                                 Traceback (most recent call last)",
            "\u001b[0;32m<ipython-input-6-f0ef96ffbe97>\u001b[0m in \u001b[0;36m<cell line: 11>\u001b[0;34m()\u001b[0m\n\u001b[1;32m      9\u001b[0m \u001b[0mmy_tuple\u001b[0m \u001b[0;34m=\u001b[0m \u001b[0;34m(\u001b[0m\u001b[0;36m1\u001b[0m\u001b[0;34m,\u001b[0m \u001b[0;36m2\u001b[0m\u001b[0;34m,\u001b[0m \u001b[0;36m3\u001b[0m\u001b[0;34m)\u001b[0m\u001b[0;34m\u001b[0m\u001b[0;34m\u001b[0m\u001b[0m\n\u001b[1;32m     10\u001b[0m \u001b[0mprint\u001b[0m\u001b[0;34m(\u001b[0m\u001b[0;34m\"Original Tuple:\"\u001b[0m\u001b[0;34m,\u001b[0m \u001b[0mmy_tuple\u001b[0m\u001b[0;34m)\u001b[0m\u001b[0;34m\u001b[0m\u001b[0;34m\u001b[0m\u001b[0m\n\u001b[0;32m---> 11\u001b[0;31m \u001b[0mmy_tuple\u001b[0m\u001b[0;34m[\u001b[0m\u001b[0;36m1\u001b[0m\u001b[0;34m]\u001b[0m \u001b[0;34m=\u001b[0m \u001b[0;36m99\u001b[0m\u001b[0;34m\u001b[0m\u001b[0;34m\u001b[0m\u001b[0m\n\u001b[0m\u001b[1;32m     12\u001b[0m \u001b[0mprint\u001b[0m\u001b[0;34m(\u001b[0m\u001b[0;34m\"Modified Tuple:\"\u001b[0m\u001b[0;34m,\u001b[0m \u001b[0mmy_tuple\u001b[0m\u001b[0;34m)\u001b[0m   \u001b[0;31m# it will throw an error\u001b[0m\u001b[0;34m\u001b[0m\u001b[0;34m\u001b[0m\u001b[0m\n",
            "\u001b[0;31mTypeError\u001b[0m: 'tuple' object does not support item assignment"
          ]
        }
      ]
    },
    {
      "cell_type": "code",
      "source": [
        "# 6. Write a function to demonstrate the behavior of mutable and immutable arguments.  (took help of chatgpt)\n",
        "def demonstrate_args(immutable_arg, mutable_arg):\n",
        "    # Attempt to modify both arguments\n",
        "    immutable_arg += 10\n",
        "    mutable_arg.append(10)\n",
        "    print(\"Inside Function - Immutable Arg:\", immutable_arg)\n",
        "    print(\"Inside Function - Mutable Arg:\", mutable_arg)\n",
        "\n",
        "num = 5  # Immutable (int)\n",
        "lst = [1, 2, 3]  # Mutable (list)\n",
        "\n",
        "demonstrate_args(num, lst)\n",
        "print(\"\\nOutside Function - Immutable Arg:\", num)\n",
        "print(\"Outside Function - Mutable Arg:\", lst)"
      ],
      "metadata": {
        "colab": {
          "base_uri": "https://localhost:8080/"
        },
        "id": "L5R-zthcGlOw",
        "outputId": "be7f9920-3720-4618-9760-18c14ced35dd"
      },
      "execution_count": 7,
      "outputs": [
        {
          "output_type": "stream",
          "name": "stdout",
          "text": [
            "Inside Function - Immutable Arg: 15\n",
            "Inside Function - Mutable Arg: [1, 2, 3, 10]\n",
            "\n",
            "Outside Function - Immutable Arg: 5\n",
            "Outside Function - Mutable Arg: [1, 2, 3, 10]\n"
          ]
        }
      ]
    },
    {
      "cell_type": "code",
      "source": [
        "# 7. Write a function to demonstrate the behavior of mutable and immutable arguments.\n",
        "# Question has been repeated"
      ],
      "metadata": {
        "id": "CWf4QMAHIXQg"
      },
      "execution_count": 8,
      "outputs": []
    },
    {
      "cell_type": "code",
      "source": [
        "# 8. Write a program to demonstrate the use of logical operators.\n",
        "a, b = True, False\n",
        "print(\"Logical AND:\", a and b)\n",
        "print(\"Logical OR:\", a or b)\n",
        "print(\"Logical NOT (a):\", not a)"
      ],
      "metadata": {
        "colab": {
          "base_uri": "https://localhost:8080/"
        },
        "id": "YYc_OhGXIcQW",
        "outputId": "5f5ffcda-5a11-4789-a06e-9395bc4e57f9"
      },
      "execution_count": 9,
      "outputs": [
        {
          "output_type": "stream",
          "name": "stdout",
          "text": [
            "Logical AND: False\n",
            "Logical OR: True\n",
            "Logical NOT (a): False\n"
          ]
        }
      ]
    },
    {
      "cell_type": "code",
      "source": [
        "# 9. Write a Python program to convert user input from string to integer, float, and boolean types.\n",
        "user_input = input(\"Enter a value: \")\n",
        "print(\"As Integer:\", int(user_input))\n",
        "print(\"As Float:\", float(user_input))\n",
        "print(\"As Boolean:\", bool(user_input))"
      ],
      "metadata": {
        "colab": {
          "base_uri": "https://localhost:8080/"
        },
        "id": "tI2FXK5JIwnL",
        "outputId": "8f97b9db-ab5b-4d5b-e1bc-79995371ff12"
      },
      "execution_count": 10,
      "outputs": [
        {
          "output_type": "stream",
          "name": "stdout",
          "text": [
            "Enter a value: 37\n",
            "As Integer: 37\n",
            "As Float: 37.0\n",
            "As Boolean: True\n"
          ]
        }
      ]
    },
    {
      "cell_type": "code",
      "source": [
        "# 10. Write code to demonstrate type casting with list elements.\n",
        "str_list = [\"1\", \"2\", \"3\"]\n",
        "int_list = []\n",
        "for i in str_list:\n",
        "  int_list.append(int(i))\n",
        "print(\"Original List (str):\", str_list)\n",
        "print(\"Converted List (int):\", int_list)"
      ],
      "metadata": {
        "colab": {
          "base_uri": "https://localhost:8080/"
        },
        "id": "CECLKG-SJD_S",
        "outputId": "4bce4d29-e5c6-499b-c8d0-3088e0574a76"
      },
      "execution_count": 11,
      "outputs": [
        {
          "output_type": "stream",
          "name": "stdout",
          "text": [
            "Original List (str): ['1', '2', '3']\n",
            "Converted List (int): [1, 2, 3]\n"
          ]
        }
      ]
    },
    {
      "cell_type": "code",
      "source": [
        "# 11. Write a program that checks if a number is positive, negative, or zero.\n",
        "num = float(input(\"Enter a number: \"))\n",
        "if num > 0:\n",
        "    print(\"The number is positive.\")\n",
        "elif num < 0:\n",
        "    print(\"The number is negative.\")\n",
        "else:\n",
        "    print(\"The number is zero.\")"
      ],
      "metadata": {
        "colab": {
          "base_uri": "https://localhost:8080/"
        },
        "id": "Vv6cAQlXJayd",
        "outputId": "76e5c2c0-a58e-4f57-d0b1-68acb871824d"
      },
      "execution_count": 12,
      "outputs": [
        {
          "output_type": "stream",
          "name": "stdout",
          "text": [
            "Enter a number: -3.7\n",
            "The number is negative.\n"
          ]
        }
      ]
    },
    {
      "cell_type": "code",
      "source": [
        "# 12. Write a for loop to print numbers from 1 to 10.\n",
        "for i in range(1, 10):\n",
        "    print(i)"
      ],
      "metadata": {
        "colab": {
          "base_uri": "https://localhost:8080/"
        },
        "id": "40d3W8FNJ71T",
        "outputId": "87c2ae9b-050d-4768-e726-b1ac138c1953"
      },
      "execution_count": 13,
      "outputs": [
        {
          "output_type": "stream",
          "name": "stdout",
          "text": [
            "1\n",
            "2\n",
            "3\n",
            "4\n",
            "5\n",
            "6\n",
            "7\n",
            "8\n",
            "9\n"
          ]
        }
      ]
    },
    {
      "cell_type": "code",
      "source": [
        "# 13. Write a Python program to find the sum of all even numbers between 1 and 50.\n",
        "even_sum = 0\n",
        "for i in range(1, 50):\n",
        "    if i % 2 == 0:\n",
        "        even_sum += i\n",
        "print(\"Sum of all even numbers between 1 and 50:\", even_sum)"
      ],
      "metadata": {
        "colab": {
          "base_uri": "https://localhost:8080/"
        },
        "id": "gGx55I-7KGA0",
        "outputId": "ea592792-d296-46df-ef4f-aefb72a05e7a"
      },
      "execution_count": 14,
      "outputs": [
        {
          "output_type": "stream",
          "name": "stdout",
          "text": [
            "Sum of all even numbers between 1 and 50: 600\n"
          ]
        }
      ]
    },
    {
      "cell_type": "code",
      "source": [
        "# 14. Write a program to reverse a string using a while loop.\n",
        "string = input(\"Enter a string: \")\n",
        "reversed_string = \"\"\n",
        "i = len(string) - 1\n",
        "\n",
        "while i >= 0:\n",
        "    reversed_string += string[i]\n",
        "    i -= 1\n",
        "\n",
        "print(\"Reversed String:\", reversed_string)"
      ],
      "metadata": {
        "colab": {
          "base_uri": "https://localhost:8080/"
        },
        "id": "cWkIWmr2KXbq",
        "outputId": "61359ae7-68a9-453e-9637-01756aead470"
      },
      "execution_count": 15,
      "outputs": [
        {
          "output_type": "stream",
          "name": "stdout",
          "text": [
            "Enter a string: pwskills\n",
            "Reversed String: sllikswp\n"
          ]
        }
      ]
    },
    {
      "cell_type": "code",
      "source": [
        "# 15. Write a Python program to calculate the factorial of a number provided by the user using a while loop.\n",
        "num = int(input(\"Enter a number: \"))\n",
        "factorial = 1\n",
        "\n",
        "if num < 0:\n",
        "    print(\"Factorial does not exist for negative numbers.\")\n",
        "else:\n",
        "    while num > 0:\n",
        "        factorial *= num\n",
        "        num -= 1\n",
        "    print(\"Factorial:\", factorial)"
      ],
      "metadata": {
        "colab": {
          "base_uri": "https://localhost:8080/"
        },
        "id": "sDojd7svK0lo",
        "outputId": "57bdbc85-1f92-40d1-98d8-2553017c998b"
      },
      "execution_count": 16,
      "outputs": [
        {
          "output_type": "stream",
          "name": "stdout",
          "text": [
            "Enter a number: 5\n",
            "Factorial: 120\n"
          ]
        }
      ]
    }
  ]
}